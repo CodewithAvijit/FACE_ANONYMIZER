{
 "cells": [
  {
   "cell_type": "code",
   "execution_count": 29,
   "id": "a390effb",
   "metadata": {},
   "outputs": [],
   "source": [
    "import mediapipe as mp\n",
    "import cv2"
   ]
  },
  {
   "cell_type": "code",
   "execution_count": 30,
   "id": "28a0a48a",
   "metadata": {},
   "outputs": [],
   "source": [
    "cap=cv2.VideoCapture(0)\n",
    "ret,frame=cap.read()\n",
    "H,W,_=frame.shape\n",
    "mp_face=mp.solutions.face_detection\n",
    "mp_draw=mp.solutions.download_utils"
   ]
  },
  {
   "cell_type": "code",
   "execution_count": 31,
   "id": "85d80059",
   "metadata": {},
   "outputs": [],
   "source": [
    "def process(img,face_detection,W,H):\n",
    "    img_rgb=cv2.cvtColor(img,cv2.COLOR_BGR2RGB)\n",
    "    out=face_detection.process(img_rgb)\n",
    "\n",
    "    if out.detections:\n",
    "        for detection in out.detections:\n",
    "            location_data=detection.location_data\n",
    "            bbox=location_data.relative_bounding_box\n",
    "            x1,y1,w,h=bbox.xmin,bbox.ymin,bbox.width,bbox.height\n",
    "            x1=int(x1*W)\n",
    "            y1=int(y1*H)\n",
    "            w=int(w*W)\n",
    "            h=int(h*H)\n",
    "\n",
    "            x1=max(0,x1)\n",
    "            y1=max(0,y1)\n",
    "            x2=min(W,x1+w)\n",
    "            y2=min(H,y1+h)\n",
    "\n",
    "            img[y1:y2,x1:x2]=cv2.blur(img[y1:y2,x1:x2],(40,40))\n",
    "            cv2.rectangle(img,(x1,y1),(x2,y2),(0,255,0),4)\n",
    "            cv2.putText(img,f\"FACE\",(x1-50,y1-10),cv2.FONT_HERSHEY_SIMPLEX, 0.6, (100, 255, 0), 2)\n",
    "    return img"
   ]
  },
  {
   "cell_type": "code",
   "execution_count": 32,
   "id": "d21eb186",
   "metadata": {},
   "outputs": [],
   "source": [
    "with mp_face.FaceDetection(model_selection=0,min_detection_confidence=0.5) as face_detection:\n",
    "    while True:\n",
    "        ret,frame=cap.read()\n",
    "        if not ret:\n",
    "            break\n",
    "        frame=process(frame,face_detection,W,H)\n",
    "        cv2.imshow(\"FACE ANONYMIZE\",frame)\n",
    "    \n",
    "        if cv2.waitKey(1) & 0xff == ord('q'):\n",
    "            break\n",
    "cap.release()\n",
    "cv2.destroyAllWindows()"
   ]
  }
 ],
 "metadata": {
  "kernelspec": {
   "display_name": "face",
   "language": "python",
   "name": "python3"
  },
  "language_info": {
   "codemirror_mode": {
    "name": "ipython",
    "version": 3
   },
   "file_extension": ".py",
   "mimetype": "text/x-python",
   "name": "python",
   "nbconvert_exporter": "python",
   "pygments_lexer": "ipython3",
   "version": "3.10.11"
  }
 },
 "nbformat": 4,
 "nbformat_minor": 5
}
